{
 "cells": [
  {
   "cell_type": "code",
   "execution_count": 45,
   "id": "f0c8f586",
   "metadata": {},
   "outputs": [
    {
     "name": "stderr",
     "output_type": "stream",
     "text": [
      "[nltk_data] Downloading package stopwords to\n",
      "[nltk_data]     C:\\Users\\ASUS\\AppData\\Roaming\\nltk_data...\n",
      "[nltk_data]   Package stopwords is already up-to-date!\n"
     ]
    }
   ],
   "source": [
    "from flask import Flask, render_template, request, jsonify\n",
    "import os\n",
    "import numpy as np\n",
    "import pickle\n",
    "import nltk\n",
    "nltk.download('stopwords')\n",
    "from nltk.corpus import stopwords\n",
    "import string"
   ]
  },
  {
   "cell_type": "code",
   "execution_count": 46,
   "id": "a94a9685",
   "metadata": {},
   "outputs": [],
   "source": [
    "app = Flask(__name__)"
   ]
  },
  {
   "cell_type": "code",
   "execution_count": 47,
   "id": "201a6ea0",
   "metadata": {},
   "outputs": [],
   "source": [
    "def predict_fake_news(X, p_fake, p_real, fake_word_probs, real_word_probs, alpha=1):\n",
    "    y_pred = []\n",
    "    num_fake = 0\n",
    "    num_real = 0\n",
    "    for i in range(X.shape[0]):\n",
    "        article = X[i, :]\n",
    "        p_real_article = 1.0\n",
    "        p_fake_article = 1.0\n",
    "        words = article.nonzero()[1]\n",
    "        for index in words:\n",
    "            if index in fake_word_probs:\n",
    "                p_fake_article *= fake_word_probs[index]\n",
    "            else:\n",
    "                p_fake_article *= alpha / (num_fake + 2 * alpha)\n",
    "            if index in real_word_probs:\n",
    "                p_real_article *= real_word_probs[index]\n",
    "            else:\n",
    "                p_real_article *= alpha / (num_real + 2 * alpha)\n",
    "        \n",
    "        # Predict the class label of the news article\n",
    "        if p_fake_article * p_fake > p_real_article * p_real:\n",
    "            y_pred.append(1)\n",
    "        else:\n",
    "            y_pred.append(0)\n",
    "        \n",
    "        if y_pred[-1] == 1:\n",
    "            num_fake += 1\n",
    "        else:\n",
    "            num_real += 1\n",
    "    \n",
    "    return np.array(y_pred)\n"
   ]
  },
  {
   "cell_type": "code",
   "execution_count": 48,
   "id": "040e4026",
   "metadata": {},
   "outputs": [],
   "source": [
    "# Load model\n",
    "with open('naive_bayes_model.pkl', 'rb') as file:\n",
    "    model_train = pickle.load(file)"
   ]
  },
  {
   "cell_type": "code",
   "execution_count": null,
   "id": "e7bc6d79",
   "metadata": {},
   "outputs": [],
   "source": []
  },
  {
   "cell_type": "code",
   "execution_count": 49,
   "id": "afa637b5",
   "metadata": {},
   "outputs": [],
   "source": [
    "# Load the vecrotizer \n",
    "with open('tfidf_vectorizer.pkl', 'rb') as file:\n",
    "    model_vectorizer = pickle.load(file)"
   ]
  },
  {
   "cell_type": "code",
   "execution_count": 50,
   "id": "70748ecf",
   "metadata": {},
   "outputs": [],
   "source": [
    "translator = str.maketrans('', '', string.punctuation)"
   ]
  },
  {
   "cell_type": "code",
   "execution_count": 61,
   "id": "13ce595f",
   "metadata": {},
   "outputs": [],
   "source": [
    "def fake_news_det(news):\n",
    "    predictions = []\n",
    "    for item in news:\n",
    "        input_data = item.lower()\n",
    "        input_data = input_data.translate(translator)\n",
    "        stop_words = stopwords.words('english')\n",
    "        \n",
    "        input_data = ' '.join([word for word in input_data.split() if word not in (stop_words)])\n",
    "        \n",
    "        vectorized_input_data = model_vectorizer.transform([input_data])\n",
    "        \n",
    "        # Predict the class label of the new data\n",
    "        prediction = predict_fake_news(vectorized_input_data, model_train[\"p_fake\"], model_train[\"p_real\"], \n",
    "                            model_train[\"fake_word_probs\"], model_train[\"real_word_probs\"])\n",
    "        #prediction = model.predict(vectorized_input_data)\n",
    "        \n",
    "        predictions.append(prediction)\n",
    "    return predictions"
   ]
  },
  {
   "cell_type": "code",
   "execution_count": 63,
   "id": "8f36c4d0",
   "metadata": {},
   "outputs": [],
   "source": [
    "#Flask routing \n",
    "@app.route(\"/\")\n",
    "\n",
    "def home():\n",
    "    return render_template(\"Home.html\")"
   ]
  },
  {
   "cell_type": "code",
   "execution_count": 68,
   "id": "82a114fd",
   "metadata": {},
   "outputs": [],
   "source": [
    "@app.route('/predict', methods = ['POST','GET'])\n",
    "def predict_fake():\n",
    "    if request.method == 'POST':\n",
    "        news = request.form['message']\n",
    "        pred = fake_news_det(news)[0]\n",
    "        print(pred)\n",
    "        print(str(pred))\n",
    "        return render_template('Home.html', prediction = str(pred), news=news)\n",
    "    else:\n",
    "        return render_template('Home.html')"
   ]
  },
  {
   "cell_type": "code",
   "execution_count": 69,
   "id": "d161a3eb",
   "metadata": {},
   "outputs": [
    {
     "name": "stdout",
     "output_type": "stream",
     "text": [
      " * Serving Flask app '__main__'\n",
      " * Debug mode: on\n"
     ]
    },
    {
     "name": "stderr",
     "output_type": "stream",
     "text": [
      "WARNING: This is a development server. Do not use it in a production deployment. Use a production WSGI server instead.\n",
      " * Running on all addresses (0.0.0.0)\n",
      " * Running on http://127.0.0.1:9098\n",
      " * Running on http://192.168.18.234:9098\n",
      "Press CTRL+C to quit\n",
      " * Restarting with watchdog (windowsapi)\n"
     ]
    },
    {
     "ename": "SystemExit",
     "evalue": "1",
     "output_type": "error",
     "traceback": [
      "An exception has occurred, use %tb to see the full traceback.\n",
      "\u001b[1;31mSystemExit\u001b[0m\u001b[1;31m:\u001b[0m 1\n"
     ]
    }
   ],
   "source": [
    "if __name__ == '__main__':\n",
    "    app.run(debug = True, host = '0.0.0.0', port='9098')"
   ]
  },
  {
   "cell_type": "code",
   "execution_count": null,
   "id": "d16476ce",
   "metadata": {},
   "outputs": [],
   "source": []
  },
  {
   "cell_type": "code",
   "execution_count": null,
   "id": "3eee3757",
   "metadata": {},
   "outputs": [],
   "source": []
  },
  {
   "cell_type": "code",
   "execution_count": null,
   "id": "c345c968",
   "metadata": {},
   "outputs": [],
   "source": []
  },
  {
   "cell_type": "code",
   "execution_count": null,
   "id": "d69cdf94",
   "metadata": {},
   "outputs": [],
   "source": []
  },
  {
   "cell_type": "code",
   "execution_count": null,
   "id": "fc7e15af",
   "metadata": {},
   "outputs": [],
   "source": []
  }
 ],
 "metadata": {
  "kernelspec": {
   "display_name": "Python 3 (ipykernel)",
   "language": "python",
   "name": "python3"
  },
  "language_info": {
   "codemirror_mode": {
    "name": "ipython",
    "version": 3
   },
   "file_extension": ".py",
   "mimetype": "text/x-python",
   "name": "python",
   "nbconvert_exporter": "python",
   "pygments_lexer": "ipython3",
   "version": "3.9.13"
  }
 },
 "nbformat": 4,
 "nbformat_minor": 5
}
