{
 "cells": [
  {
   "cell_type": "code",
   "execution_count": null,
   "id": "71ec5f53",
   "metadata": {},
   "outputs": [],
   "source": [
    "## Flask"
   ]
  },
  {
   "cell_type": "code",
   "execution_count": null,
   "id": "ced5048b",
   "metadata": {},
   "outputs": [],
   "source": [
    "# Getting start with flask"
   ]
  },
  {
   "cell_type": "code",
   "execution_count": null,
   "id": "a7221bef",
   "metadata": {},
   "outputs": [],
   "source": [
    "from flask import Flask, render_template, request, jsonify\n",
    "import os\n",
    "import numpy as np\n",
    "import pickle\n",
    "from sklearn.feature_extraction.text import CountVectorizer\n",
    "from sklearn.naive_bayes import MultinomialNB\n",
    "import pandas as pd\n",
    "from sklearn.model_selection import train_test_split"
   ]
  },
  {
   "cell_type": "code",
   "execution_count": null,
   "id": "da0c96a5",
   "metadata": {},
   "outputs": [],
   "source": [
    "app = Flask(__name__)\n",
    "model = pickle.load(open('final_model.sav','rb'))"
   ]
  },
  {
   "cell_type": "code",
   "execution_count": null,
   "id": "340df5ac",
   "metadata": {},
   "outputs": [],
   "source": [
    "# Buiilding model\n",
    "# Transform the training data into bag of words features using the CountVectorizer\n",
    "count_vectorizer = CountVectorizer()\n",
    "copy_data = pd.read_csv('final_data.csv')"
   ]
  },
  {
   "cell_type": "code",
   "execution_count": null,
   "id": "a54d9684",
   "metadata": {},
   "outputs": [],
   "source": [
    "x = copy_data['text']\n",
    "y = copy_data['label']\n",
    "x_train, x_test, y_train, y_test = train_test_split(x, y, test_size = 0.2)"
   ]
  },
  {
   "cell_type": "code",
   "execution_count": null,
   "id": "7bb3eaea",
   "metadata": {},
   "outputs": [],
   "source": [
    "def fake_news_det(news):\n",
    "    x_train_bow = count_vectorizer.fit_transform(x_train)\n",
    "    x_test_bow = count_vectorizer.transform(x_test)\n",
    "    input_data = [news]\n",
    "    vectorized_input_data = count_vectorizer.transform(input_data)\n",
    "    prediction = loaded_model.predict(vectorized_input_data)\n",
    "    return prediction"
   ]
  },
  {
   "cell_type": "code",
   "execution_count": null,
   "id": "d6874dfc",
   "metadata": {},
   "outputs": [],
   "source": []
  },
  {
   "cell_type": "code",
   "execution_count": 14,
   "id": "b0fbb06c",
   "metadata": {},
   "outputs": [],
   "source": [
    "#Location for  img\n",
    "IMG_FOLDER = os.path.join('static', 'IMG')\n",
    "app.config['UPLOAD_FOLDER'] = IMG_FOLDER"
   ]
  },
  {
   "cell_type": "code",
   "execution_count": null,
   "id": "63e59e0f",
   "metadata": {},
   "outputs": [
    {
     "name": "stdout",
     "output_type": "stream",
     "text": [
      " * Serving Flask app \"__main__\" (lazy loading)\n",
      " * Environment: production\n",
      "\u001b[31m   WARNING: This is a development server. Do not use it in a production deployment.\u001b[0m\n",
      "\u001b[2m   Use a production WSGI server instead.\u001b[0m\n",
      " * Debug mode: off\n"
     ]
    },
    {
     "name": "stderr",
     "output_type": "stream",
     "text": [
      " * Running on http://127.0.0.1:5000/ (Press CTRL+C to quit)\n",
      "127.0.0.1 - - [01/Feb/2023 11:22:19] \"GET / HTTP/1.1\" 200 -\n",
      "127.0.0.1 - - [01/Feb/2023 11:22:19] \"GET /static/img.png HTTP/1.1\" 200 -\n",
      "127.0.0.1 - - [01/Feb/2023 11:22:19] \"GET /favicon.ico HTTP/1.1\" 404 -\n"
     ]
    }
   ],
   "source": [
    "#Flask routing \n",
    "@app.route(\"/\",methods=['GET', 'POST'])\n",
    "\n",
    "def display():\n",
    "    img = os.path.join(app.config['UPLOAD_FOLDER'], 'img.png')\n",
    "    return render_template(\"Home.html\",user_image=img)\n"
   ]
  },
  {
   "cell_type": "code",
   "execution_count": null,
   "id": "1e2c79d9",
   "metadata": {},
   "outputs": [],
   "source": [
    "@app.route('/predict', methods=['POST'])\n",
    "\n",
    "def predict():\n",
    "    if request.method == 'POST':\n",
    "        message = request.form['message']\n",
    "        pred = fake_news_det(message)\n",
    "        print(pred)\n",
    "        return render_template('Home.html', prediction = pred)\n",
    "    else:\n",
    "        return render_template('Home.html', prediction = \"Something went wrong\")"
   ]
  },
  {
   "cell_type": "code",
   "execution_count": null,
   "id": "9146b62f",
   "metadata": {},
   "outputs": [],
   "source": [
    "if __name__ == '__main__':\n",
    "    app.run(debug=True)"
   ]
  }
 ],
 "metadata": {
  "kernelspec": {
   "display_name": "Python 3 (ipykernel)",
   "language": "python",
   "name": "python3"
  },
  "language_info": {
   "codemirror_mode": {
    "name": "ipython",
    "version": 3
   },
   "file_extension": ".py",
   "mimetype": "text/x-python",
   "name": "python",
   "nbconvert_exporter": "python",
   "pygments_lexer": "ipython3",
   "version": "3.9.13"
  }
 },
 "nbformat": 4,
 "nbformat_minor": 5
}
