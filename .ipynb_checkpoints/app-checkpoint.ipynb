{
 "cells": [
  {
   "cell_type": "code",
   "execution_count": 1,
   "id": "71ec5f53",
   "metadata": {},
   "outputs": [],
   "source": [
    "## Flask"
   ]
  },
  {
   "cell_type": "code",
   "execution_count": 2,
   "id": "ced5048b",
   "metadata": {},
   "outputs": [],
   "source": [
    "# Getting start with flask"
   ]
  },
  {
   "cell_type": "code",
   "execution_count": 3,
   "id": "a7221bef",
   "metadata": {},
   "outputs": [
    {
     "name": "stderr",
     "output_type": "stream",
     "text": [
      "[nltk_data] Downloading package stopwords to\n",
      "[nltk_data]     C:\\Users\\ASUS\\AppData\\Roaming\\nltk_data...\n",
      "[nltk_data]   Package stopwords is already up-to-date!\n"
     ]
    }
   ],
   "source": [
    "from flask import Flask, render_template, request, jsonify\n",
    "import os\n",
    "import numpy as np\n",
    "import pickle\n",
    "from sklearn.feature_extraction.text import CountVectorizer\n",
    "from sklearn.naive_bayes import MultinomialNB\n",
    "import pandas as pd\n",
    "from sklearn.model_selection import train_test_split\n",
    "import string\n",
    "import nltk\n",
    "nltk.download('stopwords')\n",
    "from nltk.corpus import stopwords\n"
   ]
  },
  {
   "cell_type": "code",
   "execution_count": 4,
   "id": "da0c96a5",
   "metadata": {},
   "outputs": [],
   "source": [
    "app = Flask(__name__)\n",
    "model = pickle.load(open('final_model.pkl','rb'))"
   ]
  },
  {
   "cell_type": "code",
   "execution_count": 5,
   "id": "340df5ac",
   "metadata": {},
   "outputs": [],
   "source": [
    "# Buiilding model\n",
    "# Transform the training data into bag of words features using the CountVectorizer\n",
    "count_vectorizer = CountVectorizer()\n",
    "#copy_data = pd.read_csv('final_data.csv')"
   ]
  },
  {
   "cell_type": "code",
   "execution_count": 6,
   "id": "b8c4167d",
   "metadata": {},
   "outputs": [],
   "source": [
    "def remove_punctuation(text):\n",
    "    #all_list = [char for char in text if char not in string.punctuation]\n",
    "    #no_punct = ''.join(all_list)\n",
    "    translator = str.maketrans('', '',string.punctuation)\n",
    "    no_punct = text.translate(translator)\n",
    "    return no_punct"
   ]
  },
  {
   "cell_type": "code",
   "execution_count": 7,
   "id": "7bb3eaea",
   "metadata": {},
   "outputs": [],
   "source": [
    "def fake_news_det(news):\n",
    "    input_data = [news]\n",
    "    \n",
    "#Preprcoessing\n",
    "    input_data = input_data.apply(lambda x: x.lower())\n",
    "    input_data = input_data.apply(remove_punctuation)\n",
    "    stop_words = stopwords.words('english')\n",
    "    input_data = input_data.apply(lambda x: ' '.join([word for word in x.split() if word not in (stop_words)]))\n",
    "    \n",
    "    vectorized_input_data = count_vectorizer.transform(input_data)\n",
    "    prediction = model.predict(vectorized_input_data)\n",
    "    return prediction"
   ]
  },
  {
   "cell_type": "code",
   "execution_count": 8,
   "id": "b0fbb06c",
   "metadata": {},
   "outputs": [],
   "source": [
    "#Location for  img\n",
    "#IMG_FOLDER = os.path.join('static', 'IMG')\n",
    "#app.config['UPLOAD_FOLDER'] = IMG_FOLDER"
   ]
  },
  {
   "cell_type": "code",
   "execution_count": 9,
   "id": "63e59e0f",
   "metadata": {},
   "outputs": [],
   "source": [
    "#Flask routing \n",
    "@app.route(\"/\")\n",
    "\n",
    "def display():\n",
    "    return render_template(\"Home.html\")\n"
   ]
  },
  {
   "cell_type": "code",
   "execution_count": 10,
   "id": "1e2c79d9",
   "metadata": {},
   "outputs": [
    {
     "name": "stdout",
     "output_type": "stream",
     "text": [
      " * Serving Flask app '__main__'\n",
      " * Debug mode: on\n"
     ]
    },
    {
     "name": "stderr",
     "output_type": "stream",
     "text": [
      "WARNING: This is a development server. Do not use it in a production deployment. Use a production WSGI server instead.\n",
      " * Running on http://127.0.0.1:5000\n",
      "Press CTRL+C to quit\n",
      " * Restarting with watchdog (windowsapi)\n"
     ]
    },
    {
     "ename": "SystemExit",
     "evalue": "1",
     "output_type": "error",
     "traceback": [
      "An exception has occurred, use %tb to see the full traceback.\n",
      "\u001b[1;31mSystemExit\u001b[0m\u001b[1;31m:\u001b[0m 1\n"
     ]
    },
    {
     "name": "stderr",
     "output_type": "stream",
     "text": [
      "C:\\Users\\ASUS\\anaconda3\\lib\\site-packages\\IPython\\core\\interactiveshell.py:3465: UserWarning: To exit: use 'exit', 'quit', or Ctrl-D.\n",
      "  warn(\"To exit: use 'exit', 'quit', or Ctrl-D.\", stacklevel=1)\n"
     ]
    }
   ],
   "source": [
    "@app.route('/predict', methods = ['POST','GET'])\n",
    "\n",
    "def predict():\n",
    "    if request.method == 'POST':\n",
    "        news = request.form['message']\n",
    "        pred = fake_news_det(news)\n",
    "        print(pred)\n",
    "        return render_template('Home.html', prediction = pred)\n",
    "    else:\n",
    "        return render_template('Home.html')\n",
    "    \n",
    "if __name__ == '__main__':\n",
    "    app.run(debug=True, host = '0.0.0.0', port = 8000)"
   ]
  },
  {
   "cell_type": "code",
   "execution_count": null,
   "id": "9146b62f",
   "metadata": {},
   "outputs": [],
   "source": []
  }
 ],
 "metadata": {
  "kernelspec": {
   "display_name": "Python 3 (ipykernel)",
   "language": "python",
   "name": "python3"
  },
  "language_info": {
   "codemirror_mode": {
    "name": "ipython",
    "version": 3
   },
   "file_extension": ".py",
   "mimetype": "text/x-python",
   "name": "python",
   "nbconvert_exporter": "python",
   "pygments_lexer": "ipython3",
   "version": "3.9.13"
  }
 },
 "nbformat": 4,
 "nbformat_minor": 5
}
